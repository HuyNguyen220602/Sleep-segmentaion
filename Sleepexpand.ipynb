{
 "cells": [
  {
   "cell_type": "code",
   "execution_count": 20,
   "metadata": {},
   "outputs": [],
   "source": [
    "import glob as glob\n",
    "import os\n",
    "import numpy as np\n",
    "import mne \n",
    "import shutil\n",
    "from mne.datasets import eegbci\n",
    "from mne.datasets import sleep_physionet\n",
    "import matplotlib.pyplot as plt\n",
    "import pandas as pd"
   ]
  },
  {
   "cell_type": "code",
   "execution_count": 21,
   "metadata": {},
   "outputs": [],
   "source": [
    "df_SC = pd.read_csv('D:\\Sleep-EDF Database Expanded\\sleep-edf-database-expanded-1.0.0\\SC-subjects.xls',delimiter=';', encoding='ISO-8859-1').fillna(0)\n",
    "df_ST = pd.read_csv('D:\\Sleep-EDF Database Expanded\\sleep-edf-database-expanded-1.0.0\\ST-subjects.xls',delimiter=';', encoding='ISO-8859-1').fillna(0)"
   ]
  },
  {
   "cell_type": "code",
   "execution_count": 22,
   "metadata": {},
   "outputs": [],
   "source": [
    "df=pd.read_csv(\"D:\\Sleep-EDF Database Expanded\\sleep-edf-database-expanded-1.0.0\\SHA256SUMS.txt\")"
   ]
  },
  {
   "cell_type": "code",
   "execution_count": 23,
   "metadata": {},
   "outputs": [
    {
     "name": "stdout",
     "output_type": "stream",
     "text": [
      "80\n"
     ]
    }
   ],
   "source": [
    "data_dir_sleeptelemetry = 'D:\\Sleep-EDF Database Expanded\\sleep-edf-database-expanded-1.0.0\\sleep-telemetry'\n",
    "\n",
    "# Find all PSG and hypnogram files in the directory\n",
    "psg_files = [f for f in os.listdir(data_dir_sleeptelemetry ) if f.endswith('PSG.edf')]\n",
    "hyp_files = [f for f in os.listdir(data_dir_sleeptelemetry ) if f.endswith('Hypnogram.edf')]\n",
    "\n",
    "print(len(data_dir_sleeptelemetry))"
   ]
  },
  {
   "cell_type": "code",
   "execution_count": 24,
   "metadata": {},
   "outputs": [],
   "source": [
    "raw_list = []\n",
    "for f in psg_files:\n",
    "    raw = mne.io.read_raw_edf(os.path.join(data_dir_sleeptelemetry , f), preload=True, verbose=0, stim_channel='Event marker', infer_types=True, misc=['Temp rectal'])\n",
    "    raw_list.append(raw)\n",
    "\n",
    "# Merge raw objects\n",
    "raw = mne.concatenate_raws(raw_list)"
   ]
  },
  {
   "cell_type": "code",
   "execution_count": 25,
   "metadata": {},
   "outputs": [
    {
     "name": "stderr",
     "output_type": "stream",
     "text": [
      "C:\\Users\\nguye\\AppData\\Local\\Temp\\ipykernel_14708\\1995517618.py:7: RuntimeWarning: Limited 1 annotation(s) that were expanding outside the data range.\n",
      "  groups_list = raw.set_annotations(annot)\n",
      "C:\\Users\\nguye\\AppData\\Local\\Temp\\ipykernel_14708\\1995517618.py:7: RuntimeWarning: Limited 1 annotation(s) that were expanding outside the data range.\n",
      "  groups_list = raw.set_annotations(annot)\n",
      "C:\\Users\\nguye\\AppData\\Local\\Temp\\ipykernel_14708\\1995517618.py:7: RuntimeWarning: Limited 1 annotation(s) that were expanding outside the data range.\n",
      "  groups_list = raw.set_annotations(annot)\n",
      "C:\\Users\\nguye\\AppData\\Local\\Temp\\ipykernel_14708\\1995517618.py:7: RuntimeWarning: Limited 1 annotation(s) that were expanding outside the data range.\n",
      "  groups_list = raw.set_annotations(annot)\n",
      "C:\\Users\\nguye\\AppData\\Local\\Temp\\ipykernel_14708\\1995517618.py:7: RuntimeWarning: Limited 1 annotation(s) that were expanding outside the data range.\n",
      "  groups_list = raw.set_annotations(annot)\n"
     ]
    },
    {
     "name": "stdout",
     "output_type": "stream",
     "text": [
      "(array([[ 2.36220472e-05,  2.36220472e-05,  2.36220472e-05, ...,\n",
      "        -2.82384179e-03, -2.82384179e-03, -2.82384179e-03]]), array([0.000000e+00, 1.000000e-02, 2.000000e-02, ..., 2.947997e+04,\n",
      "       2.947998e+04, 2.947999e+04]))\n"
     ]
    }
   ],
   "source": [
    "import warnings\n",
    "\n",
    "for i, raw in enumerate(raw_list):\n",
    "    with warnings.catch_warnings():\n",
    "        warnings.simplefilter(\"ignore\")\n",
    "        annot = mne.read_annotations(os.path.join(data_dir_sleeptelemetry, hyp_files[i]))\n",
    "    groups_list = raw.set_annotations(annot)\n",
    "print(groups_list[1])"
   ]
  },
  {
   "cell_type": "code",
   "execution_count": null,
   "metadata": {},
   "outputs": [],
   "source": [
    "data, times = raw.get_data(return_times=True)\n",
    "print(data.shape)\n",
    "print(times.shape)"
   ]
  },
  {
   "cell_type": "code",
   "execution_count": null,
   "metadata": {},
   "outputs": [],
   "source": [
    "print(raw.time_as_index(20))\n",
    "print(raw.time_as_index([20, 30, 40]), '\\n')\n",
    "print(np.diff(raw.time_as_index([1, 2, 3])))"
   ]
  },
  {
   "cell_type": "code",
   "execution_count": null,
   "metadata": {},
   "outputs": [],
   "source": [
    "events, event_dict = mne.events_from_annotations(raw)\n",
    "print(event_dict)\n",
    "print(events[:5])"
   ]
  },
  {
   "cell_type": "code",
   "execution_count": null,
   "metadata": {},
   "outputs": [],
   "source": [
    "def sleep_quality(raw):\n",
    "    # resample the data to 120 Hz\n",
    "    raw.resample(120, npad='auto')\n",
    "    # extract the sleep stages array\n",
    "    stages = raw.annotations.description\n",
    "    #Total Recording Time(TRT)\n",
    "    if type(stages)==list:\n",
    "        stages = np.array(stages)\n",
    "    TRT = len(stages)*30/60\n",
    "    # print('Predicted Total Recording Time in minutes:',TRT)\n",
    "    #Number of Each Stage\n",
    "    N1_index = np.where(stages==1)[0]\n",
    "    Num_N1 = len(N1_index)\n",
    "    N2_index = np.where(stages==2)[0]\n",
    "    Num_N2 = len(N2_index)\n",
    "    N3_index = np.where(stages==3)[0]\n",
    "    Num_N3 = len(N3_index)\n",
    "    R_index = np.where(stages==4)[0]\n",
    "    Num_R = len(R_index)\n",
    "    #Total Sleep Time(TST) in min\n",
    "    TST = round((Num_N1 + Num_N2 + Num_N3 + Num_R) * 30/60,2)\n",
    "    # print('Total Sleep Time in minutes:',TST)\n",
    "    #Percentage of each sleep stage\n",
    "    N1_per = round((Num_N1*30/60)/TST,3)\n",
    "    N2_per = round((Num_N2*30/60)/TST,3)\n",
    "    D_per = round((Num_N3*30/60)/TST,3)\n",
    "    R_per = round((Num_R*30/60)/TST,3)\n",
    "    NREM_per = round(((Num_N1+Num_N2+Num_N3)*30/60)/TST,3)\n",
    "    \n",
    "    #Sleep Efficiency\n",
    "    SE_per = TST/TRT\n",
    "    # SE_per = SE_per*100\n",
    "    SE = round(SE_per,3)\n",
    "    # print('The normal sleep efficiency of adults should be bigger than 90%')\n",
    "    # print('Sleep Efficiency:{}'.format(SE))\n",
    "    #Deep Sleep Time(DST) in minutes\n",
    "    \n",
    "    # print('All Deep Sleep Time in minutes:',SWST)\n",
    "    # print('Deep Sleep Percentage:',DSP)\n",
    "    #REM Sleep Time(RST) in minutes\n",
    "    \n",
    "    # print('All REM Sleep Time in minutes:',RST)\n",
    "    # print('REM Sleep Perentage:{}'.format(RSP))\n",
    "    #Low Sleep Time(LST)\n",
    "    LST = (Num_N1 + Num_N2) * 30/60\n",
    "    # print('All Low Sleep Time in minutes:',LST)\n",
    "    #Sleep Latency(SL) and REM Latency\n",
    "    ##find index of the first sleep stage\n",
    "    # print('The normal REM latency of adults should be between 90 and 120 minutes')\n",
    "    \n",
    "    lab_type,lab_count = np.unique(stages,return_counts=True)\n",
    "    \n",
    "    first_nonzero_ind = np.nonzero(stages)[0][0]\n",
    "    last_nonzero_ind = np.nonzero(stages)[0][-1]\n",
    "    if Num_R == 0:\n",
    "        print('This subject does not have REM sleep stages')\n",
    "        RL = 0\n",
    "    else:\n",
    "        firstRIndex = list(stages).index(4)\n",
    "        RL = (firstRIndex-first_nonzero_ind)*30/60\n",
    "        \n",
    "    #Sleep Period Time(SPT). Note: it refers to the time from sleep onset to the last sleep epoch, including WAS"
   ]
  },
  {
   "cell_type": "code",
   "execution_count": 26,
   "metadata": {},
   "outputs": [
    {
     "name": "stdout",
     "output_type": "stream",
     "text": [
      "Used Annotations descriptions: ['Movement time', 'Sleep stage 1', 'Sleep stage 2', 'Sleep stage 3', 'Sleep stage 4', 'Sleep stage R', 'Sleep stage W']\n"
     ]
    },
    {
     "name": "stderr",
     "output_type": "stream",
     "text": [
      "C:\\Users\\nguye\\AppData\\Local\\Temp\\ipykernel_14708\\2943270317.py:22: RuntimeWarning: event 7 missing from event_id will be ignored\n",
      "  fig = mne.viz.plot_events(events_train, event_id=event_id,\n"
     ]
    },
    {
     "data": {
      "image/png": "[encoded data removed]",
      "text/plain": [
       "<Figure size 640x480 with 1 Axes>"
      ]
     },
     "metadata": {},
     "output_type": "display_data"
    }
   ],
   "source": [
    "annotation_desc_2_event_id = {'Movement time': 1, 'Sleep stage 1': 2, 'Sleep stage 2': 3, 'Sleep stage 3': 4, 'Sleep stage 4': 5, 'Sleep stage R': 6, 'Sleep stage W': 7}\n",
    "\n",
    "# keep last 30-min wake events before sleep and first 30-min wake events after\n",
    "# sleep and redefine annotations on raw data\n",
    "annot.crop(annot[1]['onset'] - 30 * 60,\n",
    "                 annot[-2]['onset'] + 30 * 60)\n",
    "\n",
    "raw.set_annotations(annot, emit_warning=False)\n",
    "\n",
    "events_train, _ = mne.events_from_annotations(\n",
    "    raw, event_id=annotation_desc_2_event_id, chunk_duration=30.)\n",
    "\n",
    "# create a new event_id that unifies stages 3 and 4\n",
    "event_id = {'Sleep stage W': 6,\n",
    "            'Sleep stage 1': 2,\n",
    "            'Sleep stage 2': 3,\n",
    "            'Sleep stage 3/4': 4,\n",
    "            'Sleep stage R': 5,\n",
    "            'Movement time': 1}\n",
    "\n",
    "# plot events\n",
    "fig = mne.viz.plot_events(events_train, event_id=event_id,\n",
    "                          sfreq=raw.info['sfreq'],\n",
    "                          first_samp=events_train[0, 0]);\n",
    "\n",
    "# keep the color-code for further plotting\n",
    "stage_colors = plt.rcParams['axes.prop_cycle'].by_key()['color']"
   ]
  },
  {
   "cell_type": "code",
   "execution_count": null,
   "metadata": {},
   "outputs": [],
   "source": [
    "print(raw.ch_names)"
   ]
  },
  {
   "cell_type": "code",
   "execution_count": null,
   "metadata": {},
   "outputs": [],
   "source": [
    "print(raw_list[0].annotations)"
   ]
  },
  {
   "cell_type": "code",
   "execution_count": null,
   "metadata": {},
   "outputs": [],
   "source": [
    "print(events_train)"
   ]
  },
  {
   "cell_type": "code",
   "execution_count": 27,
   "metadata": {},
   "outputs": [
    {
     "name": "stdout",
     "output_type": "stream",
     "text": [
      "the (cropped) sample data object has 2948000 time samples and 5 channels.\n",
      "The last time sample is at 29479.99 seconds.\n",
      "The first few channel names are Fpz-Cz, Pz-Oz, horizontal.\n",
      "\n",
      "bad channels: []\n",
      "100.0 Hz\n",
      "None \n",
      "\n",
      "<Info | 7 non-empty values\n",
      " bads: []\n",
      " ch_names: Fpz-Cz, Pz-Oz, horizontal, submental, Marker\n",
      " chs: 3 EEG, 1 EOG, 1 EMG\n",
      " custom_ref_applied: False\n",
      " highpass: 0.0 Hz\n",
      " lowpass: 800.0 Hz\n",
      " meas_date: 1994-09-15 23:35:00 UTC\n",
      " nchan: 5\n",
      " projs: []\n",
      " sfreq: 100.0 Hz\n",
      ">\n"
     ]
    }
   ],
   "source": [
    "n_time_samps = raw.n_times\n",
    "time_secs = raw.times\n",
    "ch_names = raw.ch_names\n",
    "n_chan = len(ch_names)  # note: there is no raw.n_channels attribute\n",
    "print('the (cropped) sample data object has {} time samples and {} channels.'\n",
    "      ''.format(n_time_samps, n_chan))\n",
    "print('The last time sample is at {} seconds.'.format(time_secs[-1]))\n",
    "print('The first few channel names are {}.'.format(', '.join(ch_names[:3])))\n",
    "print()  # insert a blank line in the output\n",
    "\n",
    "# some examples of raw.info:\n",
    "print('bad channels:', raw.info['bads'])  # chs marked \"bad\" during acquisition\n",
    "print(raw.info['sfreq'], 'Hz')            # sampling frequency\n",
    "print(raw.info['description'], '\\n')      # miscellaneous acquisition info\n",
    "\n",
    "print(raw.info)"
   ]
  },
  {
   "cell_type": "code",
   "execution_count": null,
   "metadata": {},
   "outputs": [],
   "source": [
    "print(len(raw.annotations))\n",
    "print(set(raw.annotations.duration))\n",
    "print(set(raw.annotations.description))\n",
    "print(raw.annotations.onset[0])"
   ]
  },
  {
   "cell_type": "code",
   "execution_count": 35,
   "metadata": {},
   "outputs": [],
   "source": [
    "def eeg_power_band(epochs):\n",
    "    \"\"\"EEG relative power band feature extraction.\n",
    "\n",
    "    This function takes an ``mne.Epochs`` object and creates EEG features based\n",
    "    on relative power in specific frequency bands that are compatible with\n",
    "    scikit-learn.\n",
    "\n",
    "    Parameters\n",
    "    ----------\n",
    "    epochs : Epochs\n",
    "        The data.\n",
    "\n",
    "    Returns\n",
    "    -------\n",
    "    X : numpy array of shape [n_samples, 5]\n",
    "        Transformed data.\n",
    "    \"\"\"\n",
    "    # specific frequency bands\n",
    "    FREQ_BANDS = {\"delta\": [0.3, 4],\n",
    "                  \"theta\": [4, 8],\n",
    "                  \"alpha\": [8, 13],\n",
    "                  \"sigma\": [11.5, 15.5],\n",
    "                  \"beta\": [13, 30]}\n",
    "\n",
    "    spectrum = epochs.compute_psd(picks=raw.info['ch_names'], fmin=0.3, fmax=30., n_jobs=1)\n",
    "    psds, freqs = spectrum.get_data(return_freqs=True)\n",
    "    # Normalize the PSDs\n",
    "    psds /= np.sum(psds, axis=-1, keepdims=True)\n",
    "\n",
    "    X = []\n",
    "    for fmin, fmax in FREQ_BANDS.values():\n",
    "        psds_band = psds[:, :, (freqs >= fmin) & (freqs < fmax)].mean(axis=-1)\n",
    "        X.append(psds_band.reshape(len(psds), -1))\n",
    "\n",
    "    return np.concatenate(X, axis=1)"
   ]
  },
  {
   "cell_type": "code",
   "execution_count": 36,
   "metadata": {},
   "outputs": [
    {
     "name": "stdout",
     "output_type": "stream",
     "text": [
      "Not setting metadata\n",
      "880 matching events found\n",
      "No baseline correction applied\n",
      "0 projection items activated\n",
      "Using data from preloaded Raw for 880 events and 3000 original time points ...\n",
      "0 bad epochs dropped\n",
      "Setting up band-pass filter from 0.3 - 30 Hz\n",
      "\n",
      "FIR filter parameters\n",
      "---------------------\n",
      "Designing a one-pass, zero-phase, non-causal bandpass filter:\n",
      "- Windowed time-domain design (firwin) method\n",
      "- Hamming window with 0.0194 passband ripple and 53 dB stopband attenuation\n",
      "- Lower passband edge: 0.30\n",
      "- Lower transition bandwidth: 0.30 Hz (-6 dB cutoff frequency: 0.15 Hz)\n",
      "- Upper passband edge: 30.00 Hz\n",
      "- Upper transition bandwidth: 7.50 Hz (-6 dB cutoff frequency: 33.75 Hz)\n",
      "- Filter length: 1101 samples (11.010 sec)\n",
      "\n"
     ]
    },
    {
     "name": "stderr",
     "output_type": "stream",
     "text": [
      "[Parallel(n_jobs=1)]: Using backend SequentialBackend with 1 concurrent workers.\n",
      "[Parallel(n_jobs=1)]: Done   1 out of   1 | elapsed:    0.0s remaining:    0.0s\n",
      "[Parallel(n_jobs=1)]: Done   2 out of   2 | elapsed:    0.0s remaining:    0.0s\n",
      "[Parallel(n_jobs=1)]: Done   3 out of   3 | elapsed:    0.0s remaining:    0.0s\n",
      "[Parallel(n_jobs=1)]: Done   4 out of   4 | elapsed:    0.0s remaining:    0.0s\n"
     ]
    },
    {
     "name": "stdout",
     "output_type": "stream",
     "text": [
      "Number of training epochs: 616\n",
      "Number of testing epochs: 264\n"
     ]
    },
    {
     "name": "stderr",
     "output_type": "stream",
     "text": [
      "[Parallel(n_jobs=1)]: Done 2640 out of 2640 | elapsed:    1.2s finished\n"
     ]
    }
   ],
   "source": [
    "from sklearn.model_selection import train_test_split\n",
    "from sklearn.preprocessing import LabelEncoder, OneHotEncoder\n",
    "from scipy.sparse import coo_matrix\n",
    "\n",
    "tmax = 30. - 1. / raw.info['sfreq']  # tmax in included\n",
    "\n",
    "# Create epochs from the raw data and events\n",
    "epochs = mne.Epochs(raw=raw, events=events_train, event_id=event_id,\n",
    "                     tmin=0., tmax=tmax, baseline=None, preload=True)\n",
    "\n",
    "# Filter the epochs and apply other preprocessing steps\n",
    "epochs.filter(l_freq=0.3, h_freq=30)\n",
    "\n",
    "# Get the unique labels of the events in the data\n",
    "labels = epochs.events[:, 2]\n",
    "unique_labels = np.unique(labels)\n",
    "\n",
    "# Use LabelEncoder to transform the labels into integers\n",
    "le = LabelEncoder()\n",
    "le.fit(unique_labels)\n",
    "int_labels = le.transform(labels)\n",
    "\n",
    "# Use OneHotEncoder to transform the integer labels into one-hot encoded vectors\n",
    "ohe = OneHotEncoder()\n",
    "ohe.fit(np.arange(len(unique_labels)).reshape(-1, 1))\n",
    "one_hot_labels = ohe.transform(int_labels.reshape(-1, 1))\n",
    "\n",
    "# Convert the one-hot encoded labels to a dense array\n",
    "y = coo_matrix(one_hot_labels).toarray()\n",
    "\n",
    "# Split the data into training and testing sets\n",
    "indices = np.arange(len(epochs))\n",
    "train_indices, test_indices, y_train, y_test = train_test_split(indices, y, test_size=0.3, random_state=123) \n",
    "\n",
    "\n",
    "train_epochs = epochs[train_indices]\n",
    "test_epochs = epochs[test_indices]\n",
    "\n",
    "print(\"Number of training epochs:\", len(train_epochs))\n",
    "print(\"Number of testing epochs:\", len(test_epochs))\n"
   ]
  },
  {
   "cell_type": "code",
   "execution_count": null,
   "metadata": {},
   "outputs": [],
   "source": [
    "print(indices)"
   ]
  },
  {
   "cell_type": "code",
   "execution_count": null,
   "metadata": {},
   "outputs": [],
   "source": [
    "print(train_epochs)"
   ]
  },
  {
   "cell_type": "code",
   "execution_count": null,
   "metadata": {},
   "outputs": [],
   "source": [
    "print(test_epochs)"
   ]
  },
  {
   "cell_type": "code",
   "execution_count": null,
   "metadata": {},
   "outputs": [],
   "source": [
    "# visualize PSD by sleep stage\n",
    "fig, ax = plt.subplots()\n",
    "stages = sorted(event_id.keys())\n",
    "for i in range(len(test_epochs)):\n",
    "    spectrum = test_epochs[i].copy().crop(0, 120).plot_psd(fmin=0.1, fmax=20., ax=ax, color=stage_colors[i],\n",
    "                                                          show=False, average=True, spatial_colors=False)\n",
    "ax.set(title='PSD by sleep stage', xlabel='Frequency (Hz)', ylabel='µV²/Hz (dB)')\n",
    "ax.legend(ax.lines[2::3], stages)\n",
    "plt.show()"
   ]
  },
  {
   "cell_type": "code",
   "execution_count": null,
   "metadata": {},
   "outputs": [],
   "source": [
    "# Concatenate the individual test epochs\n",
    "epochs_test = mne.concatenate_epochs(test_epochs)\n",
    "\n",
    "# Get the event counts for each sleep stage\n",
    "event_counts = epochs_test.event_id.copy()\n",
    "for sleep_stage in event_counts:\n",
    "    event_counts[sleep_stage] = len(epochs_test[event_counts[sleep_stage]])\n",
    "\n",
    "# Print the final result\n",
    "print(epochs_test)\n",
    "print(event_counts)"
   ]
  },
  {
   "cell_type": "code",
   "execution_count": null,
   "metadata": {},
   "outputs": [],
   "source": [
    "# Concatenate the individual test epochs\n",
    "epochs_train = mne.concatenate_epochs(train_epochs)\n",
    "\n",
    "# Get the event counts for each sleep stage\n",
    "event_counts = epochs_train.event_id.copy()\n",
    "for sleep_stage in event_counts:\n",
    "    event_counts[sleep_stage] = len(epochs_train[event_counts[sleep_stage]])\n",
    "\n",
    "# Print the final result\n",
    "print(epochs_train)\n",
    "print(event_counts)"
   ]
  },
  {
   "cell_type": "code",
   "execution_count": null,
   "metadata": {},
   "outputs": [],
   "source": [
    "X_train = []\n",
    "for epoch in train_epochs:\n",
    "    data = train_epochs.get_data()\n",
    "    X_train.append(data.reshape(data.shape[0], -1))\n",
    "\n",
    "X_train = np.concatenate(X_train, axis=0)\n",
    "\n",
    "X_test = []\n",
    "for epoch in test_epochs:\n",
    "    data = test_epochs.get_data()\n",
    "    X_test.append(data.reshape(data.shape[0], -1))\n",
    "\n",
    "X_test = np.concatenate(X_test, axis=0)"
   ]
  },
  {
   "cell_type": "code",
   "execution_count": 37,
   "metadata": {},
   "outputs": [
    {
     "name": "stdout",
     "output_type": "stream",
     "text": [
      "    Using multitaper spectrum estimation with 7 DPSS windows\n",
      "    Using multitaper spectrum estimation with 7 DPSS windows\n",
      "Accuracy score: 81.06%\n"
     ]
    }
   ],
   "source": [
    "from sklearn.ensemble import RandomForestClassifier\n",
    "from sklearn.metrics import accuracy_score\n",
    "from sklearn.metrics import confusion_matrix\n",
    "from sklearn.metrics import classification_report\n",
    "from sklearn.pipeline import make_pipeline\n",
    "from sklearn.preprocessing import FunctionTransformer\n",
    "from sklearn.impute import SimpleImputer\n",
    "\n",
    "from sklearn.experimental import enable_hist_gradient_boosting  # noqa\n",
    "from sklearn.ensemble import HistGradientBoostingClassifier\n",
    "from tensorflow.keras.utils import to_categorical\n",
    "\n",
    "# define the pipeline\n",
    "pipe = make_pipeline(FunctionTransformer(eeg_power_band, validate=False),\n",
    "                     HistGradientBoostingClassifier(random_state=123))\n",
    "\n",
    "# train the pipeline\n",
    "y_train = train_epochs.events[:, 2]\n",
    "pipe.fit(train_epochs, y_train)\n",
    "\n",
    "# test the pipeline\n",
    "y_pred = pipe.predict(test_epochs)\n",
    "\n",
    "# assess the results\n",
    "y_test = test_epochs.events[:, 2]\n",
    "acc = accuracy_score(y_test, y_pred)\n",
    "\n",
    "print(\"Accuracy score: {:.2f}%\".format(acc * 100))"
   ]
  },
  {
   "cell_type": "code",
   "execution_count": null,
   "metadata": {},
   "outputs": [],
   "source": [
    "print(y_train)"
   ]
  },
  {
   "cell_type": "code",
   "execution_count": null,
   "metadata": {},
   "outputs": [],
   "source": [
    "print(confusion_matrix(y_test, y_pred))"
   ]
  },
  {
   "cell_type": "code",
   "execution_count": null,
   "metadata": {},
   "outputs": [],
   "source": [
    "event_id.keys()"
   ]
  },
  {
   "cell_type": "code",
   "execution_count": null,
   "metadata": {},
   "outputs": [],
   "source": [
    "print(classification_report(y_test, y_pred, target_names=event_id.keys()))"
   ]
  },
  {
   "cell_type": "code",
   "execution_count": null,
   "metadata": {},
   "outputs": [],
   "source": [
    "print(y_pred)"
   ]
  },
  {
   "cell_type": "code",
   "execution_count": null,
   "metadata": {},
   "outputs": [],
   "source": [
    "print(np.unique(y_test))\n",
    "print(np.unique(y_pred))"
   ]
  },
  {
   "cell_type": "code",
   "execution_count": 38,
   "metadata": {},
   "outputs": [
    {
     "name": "stdout",
     "output_type": "stream",
     "text": [
      "    Using multitaper spectrum estimation with 7 DPSS windows\n"
     ]
    },
    {
     "name": "stderr",
     "output_type": "stream",
     "text": [
      "f:\\File Visual studio\\File python 3.10\\lib\\site-packages\\sklearn\\ensemble\\_base.py:166: FutureWarning: `base_estimator` was renamed to `estimator` in version 1.2 and will be removed in 1.4.\n",
      "  warnings.warn(\n"
     ]
    },
    {
     "name": "stdout",
     "output_type": "stream",
     "text": [
      "    Using multitaper spectrum estimation with 7 DPSS windows\n",
      "Accuracy score: 79.17%\n"
     ]
    }
   ],
   "source": [
    "from sklearn.ensemble import RandomForestClassifier, BaggingClassifier\n",
    "from sklearn.metrics import accuracy_score\n",
    "from sklearn.pipeline import make_pipeline\n",
    "from sklearn.preprocessing import FunctionTransformer\n",
    "\n",
    "# Define the bagging classifier with a random forest base estimator\n",
    "bagging_clf = BaggingClassifier(base_estimator=RandomForestClassifier(max_depth=5), n_estimators=10, random_state=123)\n",
    "\n",
    "# Define the pipeline with feature engineering and bagging classifier\n",
    "pipe = make_pipeline(FunctionTransformer(eeg_power_band, validate=False), bagging_clf)\n",
    "\n",
    "# Extract labels from epochs\n",
    "y_train = train_epochs.events[:, 2]\n",
    "y_test = test_epochs.events[:, 2]\n",
    "\n",
    "# Fit the pipeline to the training data\n",
    "pipe.fit(train_epochs, y_train)\n",
    "\n",
    "# Make predictions on the test data\n",
    "y_pred = pipe.predict(test_epochs)\n",
    "\n",
    "# Evaluate the accuracy of the predictions\n",
    "accuracy = accuracy_score(y_test.ravel(), y_pred)\n",
    "print(\"Accuracy score: {:.2f}%\".format(accuracy * 100))"
   ]
  },
  {
   "cell_type": "code",
   "execution_count": null,
   "metadata": {},
   "outputs": [],
   "source": [
    "print(y_train, y_test)"
   ]
  },
  {
   "cell_type": "code",
   "execution_count": null,
   "metadata": {},
   "outputs": [],
   "source": [
    "epochs_data = epochs.get_data()\n",
    "print(epochs_data.shape)"
   ]
  },
  {
   "cell_type": "code",
   "execution_count": null,
   "metadata": {},
   "outputs": [],
   "source": [
    "epochs_data = epochs.get_data()  # convert Epochs object to numpy array\n",
    "n_channels, n_samples = epochs_data.shape[1:]\n",
    "print(n_chan ,n_samples)"
   ]
  }
 ],
 "metadata": {
  "kernelspec": {
   "display_name": "Python 3",
   "language": "python",
   "name": "python3"
  },
  "language_info": {
   "codemirror_mode": {
    "name": "ipython",
    "version": 3
   },
   "file_extension": ".py",
   "mimetype": "text/x-python",
   "name": "python",
   "nbconvert_exporter": "python",
   "pygments_lexer": "ipython3",
   "version": "3.10.9"
  },
  "orig_nbformat": 4,
  "vscode": {
   "interpreter": {
    "hash": "de399c723f2cdec87d6c2e5e046efc7ee00b7a860c8a7bdebcf674ffc7d648eb"
   }
  }
 },
 "nbformat": 4,
 "nbformat_minor": 2
}
